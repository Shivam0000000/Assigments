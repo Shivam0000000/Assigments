{
 "cells": [
  {
   "cell_type": "markdown",
   "id": "db83bc0c-af0a-4b92-a18d-cec58077fd26",
   "metadata": {},
   "source": [
    "Q1. You are writing code for a company. The requirement of the company is that you create a python\n",
    "function that will check whether the password entered by the user is correct or not. The function should\n",
    "take the password as input and return the string “Valid Password” if the entered password follows the\n",
    "below-given password guidelines else it should return “Invalid Password”.\n",
    "\n",
    "Note: 1. The Password should contain at least two uppercase letters and at least two lowercase letters.\n",
    "\n",
    "2. The Password should contain at least a number and three special characters.\n",
    "\n",
    "3. The length of the password should be 10 characters long."
   ]
  },
  {
   "cell_type": "code",
   "execution_count": 31,
   "id": "06ab5205-763b-4d6d-995c-f0bb0777bfc8",
   "metadata": {},
   "outputs": [
    {
     "name": "stdin",
     "output_type": "stream",
     "text": [
      "enter the password : SHIvam1@#$\n"
     ]
    },
    {
     "name": "stdout",
     "output_type": "stream",
     "text": [
      "Valid Password\n"
     ]
    }
   ],
   "source": [
    "def password_func(password):\n",
    "    upper_count=0\n",
    "    lower_count=0\n",
    "    number_count=0\n",
    "    special_count=0\n",
    "    \n",
    "    if len(password)!=10:\n",
    "        print(\"Invalid Password : Length is not equal to 10 \")\n",
    "        \n",
    "    else:\n",
    "        for i in password:\n",
    "            \n",
    "            if i.isalpha():\n",
    "                \n",
    "                if i==i.upper():\n",
    "                    upper_count+=1\n",
    "                \n",
    "                if i==i.lower():\n",
    "                    lower_count+=1\n",
    "                \n",
    "            elif i.isdigit():\n",
    "                number_count+=1\n",
    "                \n",
    "            else:\n",
    "                special_count+=1\n",
    "                \n",
    "        if upper_count>=2 and lower_count>=2 and number_count>=1 and special_count>=3:\n",
    "            print(\"Valid Password\")\n",
    "        else:\n",
    "            print(\"Invalid Password\")\n",
    "                \n",
    "\n",
    "password=input(\"enter the password :\")\n",
    "password_func(password)"
   ]
  },
  {
   "cell_type": "markdown",
   "id": "e5e3a0c9-87e7-444f-b137-19f636e94bab",
   "metadata": {},
   "source": [
    "Q1. Solve the below-given questions using at least one of the following:\n",
    "\n",
    "1. Lambda function\n",
    "\n",
    "2. Filter function\n",
    "\n",
    "3. Map function\n",
    "\n",
    "4. List Comprehension"
   ]
  },
  {
   "cell_type": "code",
   "execution_count": 41,
   "id": "58030b40-bcd8-4da1-8992-b5795b42823a",
   "metadata": {},
   "outputs": [
    {
     "name": "stdin",
     "output_type": "stream",
     "text": [
      " Shivam\n"
     ]
    },
    {
     "data": {
      "text/plain": [
       "True"
      ]
     },
     "execution_count": 41,
     "metadata": {},
     "output_type": "execute_result"
    }
   ],
   "source": [
    "#Check if the string starts with a particular letter.\n",
    "string=input()\n",
    "Letter = lambda x: x[0] == \"S\"\n",
    "Letter(string)"
   ]
  },
  {
   "cell_type": "code",
   "execution_count": 45,
   "id": "52cc4f6f-824c-4313-a6ab-7e9471b69558",
   "metadata": {},
   "outputs": [
    {
     "name": "stdin",
     "output_type": "stream",
     "text": [
      " 31344\n"
     ]
    },
    {
     "data": {
      "text/plain": [
       "True"
      ]
     },
     "execution_count": 45,
     "metadata": {},
     "output_type": "execute_result"
    }
   ],
   "source": [
    "#Check if the string is numeric\n",
    "string=input()\n",
    "number=lambda x:x.isnumeric()\n",
    "number(string)"
   ]
  },
  {
   "cell_type": "code",
   "execution_count": 35,
   "id": "34c21415-0c21-4767-9881-5a37b26de726",
   "metadata": {},
   "outputs": [
    {
     "name": "stdout",
     "output_type": "stream",
     "text": [
      "[('orange', 80), ('mango', 99), ('grapes', 1000)]\n"
     ]
    }
   ],
   "source": [
    "#Sort a list of tuples having fruit names and their quantity. [(\"mango\",99),(\"orange\",80), (\"grapes\", 1000)-\n",
    "list_1=[(\"mango\",99),(\"orange\",80), (\"grapes\", 1000)]\n",
    "newList = sorted(list_1, key = lambda x : x[1])\n",
    "print(newList)"
   ]
  },
  {
   "cell_type": "code",
   "execution_count": 46,
   "id": "60b86671-5f20-4d0c-aa9f-4eed9c148317",
   "metadata": {},
   "outputs": [
    {
     "name": "stdout",
     "output_type": "stream",
     "text": [
      "[1, 4, 9, 16, 25, 36, 49, 64, 81, 100]\n"
     ]
    }
   ],
   "source": [
    "#Find the squares of numbers from 1 to 10.\n",
    "l=[i for i in range(1,11)]\n",
    "print(list(map(lambda x:x**2,l)))"
   ]
  },
  {
   "cell_type": "code",
   "execution_count": 50,
   "id": "8ef96208-8ad1-4ffd-978c-fd30598c2215",
   "metadata": {},
   "outputs": [
    {
     "name": "stdout",
     "output_type": "stream",
     "text": [
      "[1.0, 1.2599210498948732, 1.4422495703074083, 1.5874010519681994, 1.7099759466766968, 1.8171205928321397, 1.912931182772389, 2.0, 2.080083823051904, 2.154434690031884]\n"
     ]
    }
   ],
   "source": [
    "#Find the cube root of numbers from 1 to 10\n",
    "\n",
    "l=[i**(1/3) for i in range(1,11)]\n",
    "print(l)"
   ]
  },
  {
   "cell_type": "code",
   "execution_count": 52,
   "id": "34c4e71c-dfac-4af8-884e-f316c2a021ab",
   "metadata": {},
   "outputs": [
    {
     "name": "stdin",
     "output_type": "stream",
     "text": [
      " 78\n"
     ]
    },
    {
     "data": {
      "text/plain": [
       "True"
      ]
     },
     "execution_count": 52,
     "metadata": {},
     "output_type": "execute_result"
    }
   ],
   "source": [
    "# Check if a given number is even\n",
    "n=int(input())\n",
    "check_even=lambda x:x%2==0\n",
    "check_even(n)"
   ]
  },
  {
   "cell_type": "code",
   "execution_count": 53,
   "id": "a7be255f-e482-4ff9-a79c-1c601807cb7d",
   "metadata": {},
   "outputs": [
    {
     "name": "stdout",
     "output_type": "stream",
     "text": [
      "[1, 3, 5, 7, 9]\n"
     ]
    }
   ],
   "source": [
    "# Filter odd numbers from the given list.\n",
    "l=[1,2,3,4,5,6,7,8,9,10]\n",
    "print(list(filter(lambda x:x%2!=0,l)))"
   ]
  },
  {
   "cell_type": "code",
   "execution_count": 58,
   "id": "3776058a-759b-43d1-9ac7-508426a38212",
   "metadata": {},
   "outputs": [
    {
     "name": "stdout",
     "output_type": "stream",
     "text": [
      "[-5, -4, -3, -2, -1, 0, 1, 2, 3, 4, 5, 6]\n"
     ]
    }
   ],
   "source": [
    "# Sort a list of integers into positive and negative integers lists.\n",
    "l=[1,2,3,4,5,6,-1,-2,-3,-4,-5,0]\n",
    "l1=[i for i in sorted(l)]\n",
    "print(l1)"
   ]
  }
 ],
 "metadata": {
  "kernelspec": {
   "display_name": "Python 3 (ipykernel)",
   "language": "python",
   "name": "python3"
  },
  "language_info": {
   "codemirror_mode": {
    "name": "ipython",
    "version": 3
   },
   "file_extension": ".py",
   "mimetype": "text/x-python",
   "name": "python",
   "nbconvert_exporter": "python",
   "pygments_lexer": "ipython3",
   "version": "3.10.8"
  }
 },
 "nbformat": 4,
 "nbformat_minor": 5
}
