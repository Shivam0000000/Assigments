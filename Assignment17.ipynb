{
 "cells": [
  {
   "cell_type": "markdown",
   "id": "7fdeda3b-bc18-4b02-b05e-00c68349d032",
   "metadata": {},
   "source": [
    "Q1. What is an API? Give an example, where an API is used in real life."
   ]
  },
  {
   "cell_type": "code",
   "execution_count": null,
   "id": "ddd00890-6cd4-49d5-9536-8fad041cf7bf",
   "metadata": {},
   "outputs": [],
   "source": [
    "\"\"\"An API (Application Programming Interface) is a set of rules that \n",
    "   enables software applications to interact with each other. A real-life \n",
    "   example is when a weather app uses the API of a weather service to fetch \n",
    "   current weather data and display it to the user.\"\"\""
   ]
  },
  {
   "cell_type": "markdown",
   "id": "96e0fa69-7a2e-4431-b4f0-96c7d6dc9bc6",
   "metadata": {},
   "source": [
    "Q2. Give advantages and disadvantages of using API."
   ]
  },
  {
   "cell_type": "code",
   "execution_count": null,
   "id": "df989fda-9a4a-4ea6-b424-aea6b606e3cb",
   "metadata": {},
   "outputs": [],
   "source": [
    "\"\"\"Advantages of using APIs include improved efficiency, easy integration \n",
    "   of services, and access to a wide range of functionalities. Disadvantages \n",
    "   may include reliance on external services, potential security risks, and \n",
    "   the need for constant updates to maintain compatibility.\"\"\""
   ]
  },
  {
   "cell_type": "markdown",
   "id": "80acbdd6-2957-457f-aaf5-4efd280956ca",
   "metadata": {},
   "source": [
    "Q3. What is a Web API? Differentiate between API and Web API."
   ]
  },
  {
   "cell_type": "code",
   "execution_count": null,
   "id": "c8d0df3d-2bef-4612-a667-8880de4af110",
   "metadata": {},
   "outputs": [],
   "source": [
    "\"\"\"A Web API is an API specifically designed to facilitate communication \n",
    "   and data exchange between different web-based applications. While API \n",
    "   is a general term that encompasses various types of interfaces, a Web API \n",
    "   specifically refers to APIs that are accessed over the internet using HTTP \n",
    "   protocols.\"\"\""
   ]
  },
  {
   "cell_type": "markdown",
   "id": "8b685998-2f6b-4e43-8e82-4d846c88eba4",
   "metadata": {},
   "source": [
    "Q4. Explain REST and SOAP Architecture. Mention shortcomings of SOAP."
   ]
  },
  {
   "cell_type": "code",
   "execution_count": null,
   "id": "d34f08da-bc92-4195-bcb9-2d2eff8b1ba8",
   "metadata": {},
   "outputs": [],
   "source": [
    "\"\"\"REST (Representational State Transfer) are architectural styles for \n",
    "   designing web services. REST is lightweight, stateless, and uses \n",
    "   standard HTTP methods.\n",
    "   \n",
    "   SOAP is more complex, relies on XML, and supports more advanced functionalities. \n",
    "   SOAP's shortcomings include complexity, verbosity, and slower performance compared \n",
    "   to REST.\"\"\""
   ]
  },
  {
   "cell_type": "markdown",
   "id": "fd4f222f-8b93-43f4-92c5-365f59fbb6c4",
   "metadata": {},
   "source": [
    "Q5. Differentiate between REST and SOAP."
   ]
  },
  {
   "cell_type": "code",
   "execution_count": null,
   "id": "fbfb6028-928f-4c72-abc2-b23dd3d63378",
   "metadata": {},
   "outputs": [],
   "source": [
    "\"\"\"REST (Representational State Transfer) is an architectural style that uses lightweight \n",
    "   protocols like HTTP and emphasizes simplicity, scalability, and statelessness. \n",
    "   \n",
    "   SOAP (Simple Object Access Protocol) is a protocol that uses XML and offers more\n",
    "   advanced features such as security and reliability but is more complex and heavyweight \n",
    "   in comparison.\"\"\""
   ]
  }
 ],
 "metadata": {
  "kernelspec": {
   "display_name": "Python 3 (ipykernel)",
   "language": "python",
   "name": "python3"
  },
  "language_info": {
   "codemirror_mode": {
    "name": "ipython",
    "version": 3
   },
   "file_extension": ".py",
   "mimetype": "text/x-python",
   "name": "python",
   "nbconvert_exporter": "python",
   "pygments_lexer": "ipython3",
   "version": "3.10.8"
  }
 },
 "nbformat": 4,
 "nbformat_minor": 5
}
