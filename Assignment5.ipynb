{
 "cells": [
  {
   "cell_type": "markdown",
   "id": "816b0422-4e81-47c9-821c-b04848c35614",
   "metadata": {},
   "source": [
    "Q1. Who developed Python Programming Language?"
   ]
  },
  {
   "cell_type": "code",
   "execution_count": 5,
   "id": "3f132720-22cf-4c5d-ba9c-fe8794c65576",
   "metadata": {},
   "outputs": [],
   "source": [
    "#Python programming language was developed by Guido van Rossum in the late 1980s and was first released in 1991."
   ]
  },
  {
   "cell_type": "markdown",
   "id": "b149f212-530a-445c-87a8-898b1ad83c53",
   "metadata": {},
   "source": [
    "Q1. Which type of Programming does Python support?"
   ]
  },
  {
   "cell_type": "code",
   "execution_count": 6,
   "id": "e16c27d2-8116-4bc8-b35f-f7a1fdaf6930",
   "metadata": {},
   "outputs": [],
   "source": [
    "#Python supports multiple programming paradigms, including procedural, object-oriented, functional, and scripting."
   ]
  },
  {
   "cell_type": "markdown",
   "id": "673e0e4c-0af5-4d53-9855-ef41b77f7e95",
   "metadata": {},
   "source": [
    "Q3. Is Python case sensitive when dealing with identifiers?"
   ]
  },
  {
   "cell_type": "code",
   "execution_count": 7,
   "id": "4cf4f56c-4461-4b7e-9bde-578933343fd8",
   "metadata": {},
   "outputs": [],
   "source": [
    "# Yes,Python is case sensitive when dealing with identifiers. In Python\n",
    "# variable names, function names, class names, and other identifiers are case-sensitive, meaning that uppercase and lowercase letters are considered distinct. For example, \"myVariable\" and \"myvariable\" are considered as different identifiers in Python."
   ]
  },
  {
   "cell_type": "markdown",
   "id": "e0cd3282-3402-4b9b-9359-81c912c68dcf",
   "metadata": {},
   "source": [
    "Q4. What is the correct extension of the Python file?"
   ]
  },
  {
   "cell_type": "code",
   "execution_count": 8,
   "id": "d9f01c84-ace5-45a9-a283-bf5458cc84ca",
   "metadata": {},
   "outputs": [],
   "source": [
    "#The correct extension for a Python file is \".py\"."
   ]
  },
  {
   "cell_type": "markdown",
   "id": "ab66805c-9074-4842-8912-07382b792159",
   "metadata": {},
   "source": [
    "Q5. Is Python code compiled or Interpreted?"
   ]
  },
  {
   "cell_type": "code",
   "execution_count": 9,
   "id": "5cbaa649-7096-43cb-8555-66d60c68765f",
   "metadata": {},
   "outputs": [],
   "source": [
    "#Python code is generally considered to be interpreted."
   ]
  },
  {
   "cell_type": "markdown",
   "id": "27d89943-4fb1-40c5-8ca5-16dbc0919ead",
   "metadata": {},
   "source": [
    "Q6. Name a few blocks of code used to define in Python language?"
   ]
  },
  {
   "cell_type": "code",
   "execution_count": 10,
   "id": "9c67dc30-4b22-42cf-b090-9cc70c334c6c",
   "metadata": {},
   "outputs": [],
   "source": [
    "#In Python, you can define code blocks using indentation, including function definitions, conditional statements (if, elif, else), loops (for and while), class definitions, and exception handling (try, except, finally)."
   ]
  },
  {
   "cell_type": "markdown",
   "id": "f19dab84-a268-4a24-b9d2-7705ebbe5ab9",
   "metadata": {},
   "source": [
    "Q7. State a character used to give single-line comments in python?"
   ]
  },
  {
   "cell_type": "code",
   "execution_count": 11,
   "id": "f84070da-f65a-4593-8ff2-728d7768865e",
   "metadata": {},
   "outputs": [],
   "source": [
    "# The character \"#\" is used for single-line comments in Python."
   ]
  },
  {
   "cell_type": "markdown",
   "id": "7cd205a8-d57b-4ccf-b7e8-e5cebfa960af",
   "metadata": {},
   "source": [
    "Q8. Mention functions which can help us to find the version of python that we are currently working on?"
   ]
  },
  {
   "cell_type": "code",
   "execution_count": 12,
   "id": "01c955e0-cc67-4aee-81e0-51a84b53755d",
   "metadata": {},
   "outputs": [
    {
     "name": "stdout",
     "output_type": "stream",
     "text": [
      "Python version (detailed): 3.10.8 | packaged by conda-forge | (main, Nov 22 2022, 08:26:04) [GCC 10.4.0]\n",
      "Python version (simple): 3.10.8\n"
     ]
    }
   ],
   "source": [
    "# The functions sys.version.split()[0] and platform.python_version() can be used to find the current Python version.\n",
    "\n",
    "\n",
    "import sys\n",
    "import platform\n",
    "\n",
    "print(\"Python version (detailed):\", sys.version)\n",
    "print(\"Python version (simple):\", platform.python_version())\n"
   ]
  },
  {
   "cell_type": "markdown",
   "id": "6f75da71-5d9c-4f7b-b836-c2963bc886bf",
   "metadata": {},
   "source": [
    "Q9. Python supports the creation of anonymous functions at runtime, using a construct called ________"
   ]
  },
  {
   "cell_type": "code",
   "execution_count": 13,
   "id": "c3437d3a-2dc7-4cc3-a171-2fe2740b77a0",
   "metadata": {},
   "outputs": [],
   "source": [
    "# Python supports the creation of anonymous functions at runtime, using a construct called  \"lambda\" functions"
   ]
  },
  {
   "cell_type": "markdown",
   "id": "e04e0ba2-a805-4706-b4bb-732966bedcef",
   "metadata": {},
   "source": [
    "Q10. What does pip stand for python?"
   ]
  },
  {
   "cell_type": "code",
   "execution_count": 14,
   "id": "9110266c-341c-460b-a898-e3d0526cecc0",
   "metadata": {},
   "outputs": [],
   "source": [
    "# \"Pip\" in Python stands for \"Pip Installs Packages,\" serving as the default package installer and manager."
   ]
  },
  {
   "cell_type": "markdown",
   "id": "58b50bbf-b05b-4dde-aa4d-5b09ecd2d942",
   "metadata": {},
   "source": [
    "Q11. Mention a few built-in functions in python? "
   ]
  },
  {
   "cell_type": "code",
   "execution_count": 15,
   "id": "5ab1079e-83f7-4a99-9779-9b69a13ee09e",
   "metadata": {},
   "outputs": [],
   "source": [
    "#Python provides a wide range of built-in functions. Here are a few examples:\n",
    "\n",
    "#print(): Used to display output on the console.\n",
    "#len(): Returns the length of an object, such as a string, list, or tuple.\n",
    "#type(): Returns the type of an object.\n",
    "#input(): Reads input from the user via the console.\n",
    "#range(): Generates a sequence of numbers.\n",
    "#str(), int(), float(): Convert objects to string, integer, and float types, respectively.\n",
    "#max(), min(): Returns the maximum or minimum value from a sequence.\n",
    "#sum(): Calculates the sum of all elements in a sequence.\n",
    "#abs(): Returns the absolute value of a number.\n",
    "#round(): Rounds a number to a specified number of decimal places."
   ]
  },
  {
   "cell_type": "markdown",
   "id": "c4071bd0-e5b9-4c63-838b-fc3081b769db",
   "metadata": {},
   "source": [
    "Q12. What is the maximum possible length of an identifier in Python?"
   ]
  },
  {
   "cell_type": "code",
   "execution_count": 16,
   "id": "661ac3b0-5c28-412b-bd83-605bc43713f9",
   "metadata": {},
   "outputs": [],
   "source": [
    "#The maximum possible length of an identifier in Python is not explicitly defined, but it is recommended to keep them reasonably short and meaningful."
   ]
  },
  {
   "cell_type": "markdown",
   "id": "b2dfc27d-15b8-4a40-ba3c-3de445ee07ae",
   "metadata": {},
   "source": [
    "Q13. What are the benefits of using Python?"
   ]
  },
  {
   "cell_type": "code",
   "execution_count": 17,
   "id": "551d588f-5898-42b1-a642-f4bcf3233f7d",
   "metadata": {},
   "outputs": [],
   "source": [
    "#The benefits of using Python include its simplicity, versatility, and extensive ecosystem of libraries and frameworks."
   ]
  },
  {
   "cell_type": "markdown",
   "id": "3f40bcf4-154c-45cc-8e2f-adb3ccc9de9e",
   "metadata": {},
   "source": [
    "Q14. How is memory managed in Python?"
   ]
  },
  {
   "cell_type": "code",
   "execution_count": null,
   "id": "8c160b4a-6b43-493c-8a6f-60a14d392f23",
   "metadata": {},
   "outputs": [],
   "source": [
    "#Memory management in Python is handled through a combination of garbage collection and automatic memory allocation/deallocation."
   ]
  },
  {
   "cell_type": "markdown",
   "id": "d04136fb-de41-47ee-a35e-d524e25163bc",
   "metadata": {},
   "source": [
    "Q15. How to install Python on windows and set path variables?"
   ]
  },
  {
   "cell_type": "code",
   "execution_count": 18,
   "id": "13e344d6-4a00-4c36-83ad-891c6b9bd815",
   "metadata": {},
   "outputs": [],
   "source": [
    "#To install Python on Windows and set the path variables:\n",
    "\n",
    "#Download the latest Python installer from python.org.\n",
    "#Run the installer and select the option \"Add Python to PATH\" during installation.\n",
    "#Complete the installation process and open the command prompt.\n",
    "#Verify the installation by typing python --version in the command prompt.\n",
    "#Set the path variables by going to Control Panel > System > Advanced system settings > Environment Variables.\n",
    "#Edit the \"Path\" variable in System Variables and add the Python installation directory path.\n",
    "#Save the changes and open a new command prompt window.\n",
    "#Type python to start the Python interpreter."
   ]
  },
  {
   "cell_type": "markdown",
   "id": "0e233fe2-51fb-4df9-bb53-d9d21192697b",
   "metadata": {},
   "source": [
    "Q16. Is indentation requied in python?"
   ]
  },
  {
   "cell_type": "code",
   "execution_count": null,
   "id": "aa3bb34a-51b7-4e11-8b78-84e4356162ba",
   "metadata": {},
   "outputs": [],
   "source": [
    "#Yes, indentation is required in Python"
   ]
  }
 ],
 "metadata": {
  "kernelspec": {
   "display_name": "Python 3 (ipykernel)",
   "language": "python",
   "name": "python3"
  },
  "language_info": {
   "codemirror_mode": {
    "name": "ipython",
    "version": 3
   },
   "file_extension": ".py",
   "mimetype": "text/x-python",
   "name": "python",
   "nbconvert_exporter": "python",
   "pygments_lexer": "ipython3",
   "version": "3.10.8"
  }
 },
 "nbformat": 4,
 "nbformat_minor": 5
}
