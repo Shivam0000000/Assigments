{
 "cells": [
  {
   "cell_type": "markdown",
   "id": "77166828-0cca-43ff-9e8a-efc549d881a7",
   "metadata": {},
   "source": [
    "Q1. What is a database? Differentiate between SQL and NoSQL databases."
   ]
  },
  {
   "cell_type": "code",
   "execution_count": null,
   "id": "cce87c7d-fc47-46c3-8e4f-a20684937dd1",
   "metadata": {},
   "outputs": [],
   "source": [
    "\"\"\"A database is a structured collection of data. \n",
    "  SQL databases use a structured query language and have predefined schemas, \n",
    "  while NoSQL databases are non-relational and offer flexible schema design and scalability.\"\"\""
   ]
  },
  {
   "cell_type": "markdown",
   "id": "bab626bb-c5e4-40c4-b98f-447a53645064",
   "metadata": {},
   "source": [
    "Q2. What is DDL? Explain why CREATE, DROP, ALTER, and TRUNCATE are used with an example."
   ]
  },
  {
   "cell_type": "code",
   "execution_count": null,
   "id": "42113add-1ac9-4509-88b0-feea237a5a3c",
   "metadata": {},
   "outputs": [],
   "source": [
    "\"\"\"DDL stands for Data Definition Language. \n",
    "   It is used to define and manage the structure of a database. \n",
    "   \n",
    "   \n",
    "   CREATE is used to create new objects\n",
    "   Example:\n",
    "    CREATE TABLE employees (\n",
    "    name VARCHAR(50),\n",
    "    age INT,\n",
    "    salary DECIMAL(10,2)\n",
    "    );\n",
    "\n",
    "\n",
    "   DROP is used to remove objects\n",
    "   Example:\n",
    "     DROP TABLE employees;\n",
    "     \n",
    "     \n",
    "   ALTER is used to modify objects\n",
    "   Example:\n",
    "     ALTER TABLE employees\n",
    "     ADD COLUMN department VARCHAR(50);\n",
    "     \n",
    "\n",
    "   TRUNCATE is used to remove all data from a table.\n",
    "   Example:\n",
    "     TRUNCATE TABLE employees;\n",
    "\"\"\""
   ]
  },
  {
   "cell_type": "markdown",
   "id": "0405662d-6799-48d7-b5ac-41d533ef75bc",
   "metadata": {},
   "source": [
    "Q3. What is DML? Explain INSERT, UPDATE, and DELETE with an example."
   ]
  },
  {
   "cell_type": "code",
   "execution_count": null,
   "id": "6819179a-7eb5-400f-b0e9-16d6cf3d437d",
   "metadata": {},
   "outputs": [],
   "source": [
    "\"\"\"DML stands for Data Manipulation Language, \n",
    "   a subset of SQL used to modify data in a database. \n",
    "   INSERT is used to add new records to a table, \n",
    "   UPDATE is used to modify existing records in a table, \n",
    "   and DELETE is used to remove records from a table.\n",
    "\n",
    "   For example,table named \"Employees\" with columns \"ID,\" \"Name,\" and \"Salary.\"\n",
    "\n",
    "     INSERT statement: INSERT INTO Employees (ID, Name, Salary) VALUES (1, 'John', 5000) \n",
    "     adds a new employee with ID 1, name 'John', and salary 5000 to the Employees table.\n",
    "\n",
    "     UPDATE statement: UPDATE Employees SET Salary = 6000 WHERE ID = 1 \n",
    "     modifies the salary of the employee with ID 1 to 6000.\n",
    "\n",
    "     DELETE statement: DELETE FROM Employees WHERE ID = 1 \n",
    "     removes the employee with ID 1 from the Employees table.\"\"\""
   ]
  },
  {
   "cell_type": "markdown",
   "id": "5a92f51e-4c39-4f07-93a8-8362c80c9c1f",
   "metadata": {},
   "source": [
    "Q4. What is DQL? Explain SELECT with an example."
   ]
  },
  {
   "cell_type": "code",
   "execution_count": null,
   "id": "e208cb14-4ffd-4296-ad55-401ea750ce39",
   "metadata": {},
   "outputs": [],
   "source": [
    "\"\"\"DQL stands for Data Query Language, a subset of SQL. \n",
    "   SELECT is used to retrieve specific data from a database.\n",
    "   \n",
    "   Example: SELECT * FROM Customers retrieves all records from the Customers table.\"\"\""
   ]
  },
  {
   "cell_type": "markdown",
   "id": "5c2a1fc7-7e23-45b1-b669-e9099aa0334f",
   "metadata": {},
   "source": [
    "Q5. Explain Primary Key and Foreign Key."
   ]
  },
  {
   "cell_type": "code",
   "execution_count": null,
   "id": "e7e470c2-67e9-486b-904f-5c8a31148d6f",
   "metadata": {},
   "outputs": [],
   "source": [
    "\"\"\"A primary key is a unique identifier for a record in a table, \n",
    "   ensuring its uniqueness and integrity.\n",
    "\n",
    "   A foreign key is a reference to the primary key in another table, \n",
    "   establishing a relationship between the tables. It enforces referential integrity.\"\"\""
   ]
  },
  {
   "cell_type": "markdown",
   "id": "31c81677-c9ea-4aca-970c-e2f7de8df2b8",
   "metadata": {},
   "source": [
    "Q6. Write a python code to connect MySQL to python. Explain the cursor() and execute() method."
   ]
  },
  {
   "cell_type": "code",
   "execution_count": 18,
   "id": "dd916f28-10fa-44fe-945d-e4c3b901cb25",
   "metadata": {},
   "outputs": [
    {
     "name": "stdout",
     "output_type": "stream",
     "text": [
      "Requirement already satisfied: mysql-connector in /opt/conda/lib/python3.10/site-packages (2.2.9)\n",
      "(123, 'shivam', 234.45, 234, 'kumar')\n",
      "(123, 'shivam', 234.45, 234, 'kumar')\n",
      "(123, 'shivam', 234.45, 234, 'kumar')\n",
      "(123, 'shivam', 234.45, 234, 'kumar')\n",
      "(123, 'shivam', 234.45, 234, 'kumar')\n",
      "(123, 'shivam', 234.45, 234, 'kumar')\n",
      "(123, 'shivam', 234.45, 234, 'kumar')\n",
      "(123, 'shivam', 234.45, 234, 'kumar')\n"
     ]
    }
   ],
   "source": [
    "!pip install mysql-connector\n",
    "import mysql.connector\n",
    "mydb = mysql.connector.connect(\n",
    "  host=\"sql12.freesqldatabase.com\",\n",
    "  user=\"sql12625251\",\n",
    "  password=\"aDXmpqPsy6\"\n",
    ")\n",
    "mycursor = mydb.cursor(buffered=True)\n",
    "mycursor.execute(\"show databases\")\n",
    "mycursor.execute(\"CREATE TABLE if not exists sql12625251.test_table( c1 INT,c2 VARCHAR(50),c3 FLOAT,c4 INT,c5 VARCHAR(50));\")\n",
    "mycursor.execute(\"insert into sql12625251.test_table values(123,'shivam',234.45,234,'kumar')\")\n",
    "mycursor.execute(\"insert into sql12625251.test_table values(123,'shivam',234.45,234,'kumar')\")\n",
    "mycursor.execute(\"insert into sql12625251.test_table values(123,'shivam',234.45,234,'kumar')\")\n",
    "mycursor.execute(\"insert into sql12625251.test_table values(123,'shivam',234.45,234,'kumar')\")\n",
    "mycursor.execute(\"select * from sql12625251.test_table\")\n",
    "mydb.commit()\n",
    "for i in mycursor.fetchall():\n",
    "    print(i)    \n",
    "mydb.close()\n",
    "\n",
    "# cursor() execute() method.\n",
    "\"\"\"The cursor() method is used to create a cursor object that executes SQL statements. \n",
    "   The execute() method is used to execute the SQL statement specified by the cursor object.\"\"\""
   ]
  },
  {
   "cell_type": "markdown",
   "id": "107551b6-a9f2-44bd-b9c0-0d363f51aeae",
   "metadata": {},
   "source": [
    "Q7. Give the order of execution of SQL clauses in an SQL query."
   ]
  },
  {
   "cell_type": "code",
   "execution_count": null,
   "id": "a2e2d485-0c8d-4b4e-9e4a-42c2104067a1",
   "metadata": {},
   "outputs": [],
   "source": [
    "\"\"\"The order of execution of SQL clauses in an SQL query is as follows:\n",
    "\n",
    "    1.FROM\n",
    "    2.WHERE\n",
    "    3.GROUP BY\n",
    "    4.HAVING\n",
    "    5.SELECT\n",
    "    6.DISTINCT\n",
    "    7.ORDER BY\n",
    "    8.LIMIT/OFFSET  \"\"\""
   ]
  }
 ],
 "metadata": {
  "kernelspec": {
   "display_name": "Python 3 (ipykernel)",
   "language": "python",
   "name": "python3"
  },
  "language_info": {
   "codemirror_mode": {
    "name": "ipython",
    "version": 3
   },
   "file_extension": ".py",
   "mimetype": "text/x-python",
   "name": "python",
   "nbconvert_exporter": "python",
   "pygments_lexer": "ipython3",
   "version": "3.10.8"
  }
 },
 "nbformat": 4,
 "nbformat_minor": 5
}
