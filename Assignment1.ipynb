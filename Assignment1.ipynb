{
 "cells": [
  {
   "cell_type": "markdown",
   "id": "8fa88175-9028-4b5b-b2f8-91751af31124",
   "metadata": {},
   "source": [
    "Q1. Explain with an example each when to use a for loop and while loop?"
   ]
  },
  {
   "cell_type": "code",
   "execution_count": 5,
   "id": "2ab70e29-825e-4419-b4dc-1bd29f56f8c9",
   "metadata": {},
   "outputs": [
    {
     "name": "stdout",
     "output_type": "stream",
     "text": [
      "0\n",
      "1\n",
      "2\n",
      "3\n",
      "4\n",
      "5\n",
      "6\n",
      "7\n",
      "8\n",
      "9\n",
      "upper 'for loop' is fully executed\n",
      "0\n",
      "1\n",
      "2\n",
      "3\n",
      "4\n",
      "5\n",
      "6\n",
      "7\n",
      "8\n",
      "9\n",
      "upper 'while loop' is fully executed\n"
     ]
    }
   ],
   "source": [
    "#\"for loop\" use for when we iterate on elements in string, list, tuple, set and dict for a given range.\n",
    "n=10\n",
    "for i in range(n):\n",
    "    print(i)\n",
    "else:\n",
    "    print(\"upper 'for loop' is fully executed\")\n",
    "\n",
    "\n",
    "#\"while Loop\" also iterate on given data but first the iterator check condition ,then execute 'While Loop' body based on a condition.\n",
    "n=10\n",
    "i=0\n",
    "while i<n:\n",
    "    print(i)\n",
    "    i=i+1\n",
    "else:\n",
    "    print(\"upper 'while loop' is fully executed\")    "
   ]
  },
  {
   "cell_type": "markdown",
   "id": "ff48d05d-3bc0-467a-a710-ba567ce84b08",
   "metadata": {},
   "source": [
    "Q2. Write a python prograam to print the sum and product of the first 10 natural numbers using for and while loop?"
   ]
  },
  {
   "cell_type": "code",
   "execution_count": 10,
   "id": "8c5d61f8-94a1-4a09-af69-42f3b8476578",
   "metadata": {},
   "outputs": [
    {
     "name": "stdout",
     "output_type": "stream",
     "text": [
      "sum of first 10 natural numbers using 'For Loop':  55\n",
      "product of first 10 natural numbers using 'For Loop':  3628800\n",
      "sum of first 10 natural numbers using 'While Loop':  55\n",
      "product of first 10 natural numbers using 'While Loop':  3628800\n"
     ]
    }
   ],
   "source": [
    "#FOR Loop\n",
    "n=10\n",
    "natural_sum=0\n",
    "natural_product=1\n",
    "for i in range(1,n+1):\n",
    "    natural_sum += i\n",
    "    natural_product *= i\n",
    "print(\"sum of first 10 natural numbers using 'For Loop': \",natural_sum)  \n",
    "print(\"product of first 10 natural numbers using 'For Loop': \",natural_product)  \n",
    "\n",
    "\n",
    "#While Loop\n",
    "n=10\n",
    "natural_sum=0\n",
    "natural_product=1\n",
    "i=1\n",
    "while i<=n:\n",
    "    natural_sum += i\n",
    "    natural_product *= i\n",
    "    i +=1\n",
    "print(\"sum of first 10 natural numbers using 'While Loop': \",natural_sum)  \n",
    "print(\"product of first 10 natural numbers using 'While Loop': \",natural_product)     \n",
    "    \n",
    "    "
   ]
  },
  {
   "cell_type": "markdown",
   "id": "483e0fe8-3bcd-4f80-aaf5-2eec17dee795",
   "metadata": {},
   "source": [
    "Q3. Create a python program to compute the electricity bill for a household.\n",
    "The per-unit charges in rupees are as follows: For the first 100 units, the user will be charged Rs. 4.5 per\n",
    "unit, for the next 100 units, the user will be charged Rs. 6 per unit, and for the next 100 units, the user will\n",
    "be charged Rs. 10 per unit, After 300 units and above the user will be charged Rs. 20 per unit.\n",
    "You are required to take the units of electricity consumed in a month from the user as input.\n",
    "Your program must pass this test case: when the unit of electricity consumed by the user in a month is\n",
    "310, the total electricity bill should be 2250."
   ]
  },
  {
   "cell_type": "code",
   "execution_count": 9,
   "id": "491a726f-1a9f-4e40-b351-68e24ef7234a",
   "metadata": {},
   "outputs": [
    {
     "name": "stdin",
     "output_type": "stream",
     "text": [
      " 310\n"
     ]
    },
    {
     "name": "stdout",
     "output_type": "stream",
     "text": [
      "2250.0\n"
     ]
    }
   ],
   "source": [
    "units=int(input())\n",
    "total=0\n",
    "if units<=100:\n",
    "    total_bill=units*4.5\n",
    "elif units<=200:\n",
    "    total_bill=100*4.5 + (units-100)*6\n",
    "elif units<=300:\n",
    "    total_bill=100*4.5 + 100*6 + (units-200)*10\n",
    "else:\n",
    "    total_bill=100*4.5 + 100*6 + 100*10 + (units-300)*20\n",
    "print(total_bill) "
   ]
  },
  {
   "cell_type": "markdown",
   "id": "a1ed2f96-daa0-4acb-aaec-72fe922e1388",
   "metadata": {},
   "source": [
    "Q4. Create a list of numbers from 1 to 100. Use for loop and while loop to calculate the cube of each\n",
    "number and if the cube of that number is divisible by 4 or 5 then append that number in a list and print\n",
    "that list."
   ]
  },
  {
   "cell_type": "code",
   "execution_count": 11,
   "id": "f48580cc-09d4-4697-a776-fb5957155f9e",
   "metadata": {},
   "outputs": [
    {
     "name": "stdout",
     "output_type": "stream",
     "text": [
      "[2, 4, 5, 6, 8, 10, 12, 14, 15, 16, 18, 20, 22, 24, 25, 26, 28, 30, 32, 34, 35, 36, 38, 40, 42, 44, 45, 46, 48, 50, 52, 54, 55, 56, 58, 60, 62, 64, 65, 66, 68, 70, 72, 74, 75, 76, 78, 80, 82, 84, 85, 86, 88, 90, 92, 94, 95, 96, 98, 100]\n",
      "[2, 4, 5, 6, 8, 10, 12, 14, 15, 16, 18, 20, 22, 24, 25, 26, 28, 30, 32, 34, 35, 36, 38, 40, 42, 44, 45, 46, 48, 50, 52, 54, 55, 56, 58, 60, 62, 64, 65, 66, 68, 70, 72, 74, 75, 76, 78, 80, 82, 84, 85, 86, 88, 90, 92, 94, 95, 96, 98, 100]\n"
     ]
    }
   ],
   "source": [
    "l=[i for i in range(1,101)]\n",
    "\n",
    "# For Loop\n",
    "l1=[]\n",
    "for i in l:\n",
    "    if (i**3)%4==0 or (i**3)%5==0:\n",
    "        l1.append(i)\n",
    "print(l1)        \n",
    "\n",
    "\n",
    "\n",
    "# While Loop\n",
    "l2=[]\n",
    "i=1\n",
    "while i<=len(l):\n",
    "    if (i**3)%4==0 or (i**3)%5==0:\n",
    "        l2.append(i)\n",
    "    i+=1\n",
    "print(l2)    \n",
    "    "
   ]
  },
  {
   "cell_type": "markdown",
   "id": "1eda57e9-7bb7-44df-b99a-a111e440d641",
   "metadata": {},
   "source": [
    "Q5. Write a program to filter count vowels in the below-given string.\n",
    "string = \"I want to become a data scientist\""
   ]
  },
  {
   "cell_type": "code",
   "execution_count": 2,
   "id": "f11b6a37-0b15-41dc-9f42-11861a61f0d1",
   "metadata": {},
   "outputs": [
    {
     "name": "stdout",
     "output_type": "stream",
     "text": [
      "4\n",
      "3\n",
      "2\n",
      "2\n",
      "0\n",
      "0\n",
      "0\n",
      "1\n",
      "0\n",
      "0\n",
      "12\n"
     ]
    }
   ],
   "source": [
    "string = \"I want to become a data scientist\"\n",
    "vowels=['a','e','i','o','u','A','E','I','O','U']\n",
    "count=0\n",
    "for i in vowels:\n",
    "    count += string.count(i)\n",
    "print(count)   "
   ]
  },
  {
   "cell_type": "code",
   "execution_count": null,
   "id": "c02d6a1a-5e6e-492f-a472-99a027e4bcf9",
   "metadata": {},
   "outputs": [],
   "source": []
  },
  {
   "cell_type": "code",
   "execution_count": null,
   "id": "38bf2d7d-100e-4e2f-b819-e16ef9a24f0d",
   "metadata": {},
   "outputs": [],
   "source": []
  }
 ],
 "metadata": {
  "kernelspec": {
   "display_name": "Python 3 (ipykernel)",
   "language": "python",
   "name": "python3"
  },
  "language_info": {
   "codemirror_mode": {
    "name": "ipython",
    "version": 3
   },
   "file_extension": ".py",
   "mimetype": "text/x-python",
   "name": "python",
   "nbconvert_exporter": "python",
   "pygments_lexer": "ipython3",
   "version": "3.10.8"
  }
 },
 "nbformat": 4,
 "nbformat_minor": 5
}
