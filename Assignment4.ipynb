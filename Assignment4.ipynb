{
 "cells": [
  {
   "cell_type": "markdown",
   "id": "ce0fbba0-9c78-4630-8d83-268e236c70c3",
   "metadata": {},
   "source": [
    "Q1. Explain Class and Object with respect to Object-Oriented Programming. Give a suitable example."
   ]
  },
  {
   "cell_type": "code",
   "execution_count": 3,
   "id": "cc6448f6-ae64-4f17-a669-2d8fd6d15615",
   "metadata": {},
   "outputs": [],
   "source": [
    "#Class: Blueprint defining attributes and methods.\n",
    "#object: Instance created from a class.\n",
    "#Example: Class - Car; Object - Honda Civic."
   ]
  },
  {
   "cell_type": "markdown",
   "id": "8acca741-b3a2-4ca9-ab86-e0cbd5aac74f",
   "metadata": {},
   "source": [
    "Q2. Name the four pillars of OOPs."
   ]
  },
  {
   "cell_type": "code",
   "execution_count": 4,
   "id": "cfba0c82-86e7-4af7-a738-4fbdaf5968c3",
   "metadata": {},
   "outputs": [],
   "source": [
    "# (1) Polymorphism\n",
    "# (2) Inheritance\n",
    "# (3) Encapsulation\n",
    "# (4) Abstraction"
   ]
  },
  {
   "cell_type": "markdown",
   "id": "c62fde4e-b0d1-4c7e-8efc-311cd12a6097",
   "metadata": {},
   "source": [
    "Q3. Explain why the __init__() function is used. Give a suitable example."
   ]
  },
  {
   "cell_type": "code",
   "execution_count": 5,
   "id": "0e005e0f-d870-4019-9f71-cb5ed672dca4",
   "metadata": {},
   "outputs": [
    {
     "name": "stdout",
     "output_type": "stream",
     "text": [
      "Car details:\n",
      "Brand: Honda\n",
      "Model: Civic\n",
      "Color: Red\n"
     ]
    }
   ],
   "source": [
    "#The __init__() function in Python is used to initialize the attributes of an object in a class. \n",
    "#It is typically used to set the initial state of the object.\n",
    "\n",
    "\n",
    "class Car:\n",
    "    def __init__(self, brand, model, color):\n",
    "        self.brand = brand\n",
    "        self.model = model\n",
    "        self.color = color\n",
    "    \n",
    "    def display_info(self):\n",
    "        print(\"Car details:\")\n",
    "        print(\"Brand:\", self.brand)\n",
    "        print(\"Model:\", self.model)\n",
    "        print(\"Color:\", self.color)\n",
    "\n",
    "\n",
    "my_car = Car(\"Honda\", \"Civic\", \"Red\")\n",
    "\n",
    "my_car.display_info()\n"
   ]
  },
  {
   "cell_type": "markdown",
   "id": "ca8afbcc-936f-4ace-a0f0-1c7793ea13f5",
   "metadata": {},
   "source": [
    "Q4. Why self is used in OOPs?"
   ]
  },
  {
   "cell_type": "code",
   "execution_count": 6,
   "id": "6f8a3c5c-9303-471d-9b0b-64a87682cca0",
   "metadata": {},
   "outputs": [],
   "source": [
    "#self is used in OOPs to refer to the instance of a class and access its attributes and methods."
   ]
  },
  {
   "cell_type": "markdown",
   "id": "ceccf894-6a98-448a-88bd-ea48e6c40b40",
   "metadata": {},
   "source": [
    "Q5. What is inheritance? Give an example for each type of inheritance."
   ]
  },
  {
   "cell_type": "code",
   "execution_count": 30,
   "id": "9952ba58-80f2-48c4-ab4a-a9a8c5e0d69a",
   "metadata": {},
   "outputs": [
    {
     "name": "stdout",
     "output_type": "stream",
     "text": [
      "this is a vehicle class\n",
      "None\n",
      "this is a Car class\n",
      "None\n",
      "Eating...\n",
      "Barking...\n",
      "Snoring...\n",
      "Eating...\n",
      "Flying...\n",
      "Drawing a shape...\n",
      "Calculating the area of a circle...\n",
      "Drawing a shape...\n",
      "Calculating the area of a rectangle...\n"
     ]
    }
   ],
   "source": [
    "#Inheritance is a mechanism in object-oriented programming where a class can inherit attributes and behaviors from another class.\n",
    "\n",
    "\n",
    "#There are several types of inheritance:\n",
    "\n",
    "#Single Inheritance: A subclass inherits from a single base class.\n",
    "#Example:\n",
    "class Vehicle:\n",
    "    def drive(self):\n",
    "        print(\"Driving a vehicle.\")\n",
    "\n",
    "class Car(Vehicle):\n",
    "    def accelerate(self):\n",
    "        print(\"Car is accelerating.\")\n",
    "\n",
    "my_car = Car()\n",
    "my_car.drive()       \n",
    "my_car.accelerate()  \n",
    "\n",
    "\n",
    "#Multilevel Inheritance: A subclass inherits from a derived class, creating a hierarchy.\n",
    "#Example\n",
    "class Animal:\n",
    "    def eat(self):\n",
    "        print(\"Eating...\")\n",
    "\n",
    "class Dog(Animal):\n",
    "    def bark(self):\n",
    "        print(\"Barking...\")\n",
    "\n",
    "class Bulldog(Dog):\n",
    "    def snore(self):\n",
    "        print(\"Snoring...\")\n",
    "\n",
    "\n",
    "my_dog = Bulldog()\n",
    "my_dog.eat()   \n",
    "my_dog.bark()  \n",
    "my_dog.snore() \n",
    "\n",
    "\n",
    "#Multiple Inheritance: A subclass inherits from multiple base classes.\n",
    "#Example\n",
    "class Animal:\n",
    "    def eat(self):\n",
    "        print(\"Eating...\")\n",
    "\n",
    "class Flyable:\n",
    "    def fly(self):\n",
    "        print(\"Flying...\")\n",
    "\n",
    "class Bird(Animal, Flyable):\n",
    "    pass\n",
    "\n",
    "my_bird = Bird()\n",
    "my_bird.eat()  \n",
    "my_bird.fly()  \n",
    "\n",
    "\n",
    "#Hierarchical Inheritance: Multiple subclasses inherit from a single base class.\n",
    "#Example\n",
    "class Shape:\n",
    "     def draw(self):\n",
    "        print(\"Drawing a shape...\")\n",
    "\n",
    "class Circle(Shape):\n",
    "    def calculate_area(self):\n",
    "        print(\"Calculating the area of a circle...\")\n",
    "\n",
    "class Rectangle(Shape):\n",
    "    def calculate_area(self):\n",
    "        print(\"Calculating the area of a rectangle...\")\n",
    "\n",
    "my_circle = Circle()\n",
    "my_circle.draw()           \n",
    "my_circle.calculate_area() \n",
    "\n",
    "my_rectangle = Rectangle()\n",
    "my_rectangle.draw()           \n",
    "my_rectangle.calculate_area() \n"
   ]
  },
  {
   "cell_type": "code",
   "execution_count": null,
   "id": "48d66ac6-e83a-4b88-851c-a1acbab1c7ae",
   "metadata": {},
   "outputs": [],
   "source": []
  },
  {
   "cell_type": "code",
   "execution_count": null,
   "id": "9c7bc891-6747-4c36-9dc9-f4256ca33d88",
   "metadata": {},
   "outputs": [],
   "source": []
  },
  {
   "cell_type": "code",
   "execution_count": null,
   "id": "c6fec107-a318-49ae-85af-e1ba7c8fe6ff",
   "metadata": {},
   "outputs": [],
   "source": []
  }
 ],
 "metadata": {
  "kernelspec": {
   "display_name": "Python 3 (ipykernel)",
   "language": "python",
   "name": "python3"
  },
  "language_info": {
   "codemirror_mode": {
    "name": "ipython",
    "version": 3
   },
   "file_extension": ".py",
   "mimetype": "text/x-python",
   "name": "python",
   "nbconvert_exporter": "python",
   "pygments_lexer": "ipython3",
   "version": "3.10.8"
  }
 },
 "nbformat": 4,
 "nbformat_minor": 5
}
