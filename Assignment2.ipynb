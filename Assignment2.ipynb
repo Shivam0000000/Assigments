{
 "cells": [
  {
   "cell_type": "markdown",
   "id": "c3a1b4a2-1aba-469e-9249-37a15d306473",
   "metadata": {},
   "source": [
    "Q1. Which keyword is used to create a function? Create a function to return a list of odd numbers in the\n",
    "range of 1 to 25."
   ]
  },
  {
   "cell_type": "code",
   "execution_count": 9,
   "id": "4530f156-c40d-42ed-bf45-4b01eaa25dc0",
   "metadata": {},
   "outputs": [
    {
     "name": "stdout",
     "output_type": "stream",
     "text": [
      "[1, 3, 5, 7, 9, 11, 13, 15, 17, 19, 21, 23, 25]\n",
      "\n",
      "\n"
     ]
    }
   ],
   "source": [
    "# def keyword is used to create a function.\n",
    "def odd_number(l):\n",
    "    return [i for i in l if i%2!=0]\n",
    "l=[i for i in range(1,26)]\n",
    "print(odd_number(l))\n",
    "\n",
    "\n",
    "print()\n",
    "print()"
   ]
  },
  {
   "cell_type": "markdown",
   "id": "a092fe51-636e-424e-adae-eb3b8360479d",
   "metadata": {},
   "source": [
    "Q2. Why *args and **kwargs is used in some functions? Create a function each for *args and **kwargs\n",
    "to demonstrate their use."
   ]
  },
  {
   "cell_type": "code",
   "execution_count": 10,
   "id": "a1137e1c-3139-455a-be7a-f00002f54776",
   "metadata": {},
   "outputs": [
    {
     "name": "stdout",
     "output_type": "stream",
     "text": [
      "(12, 32, 42, 'shivam')\n",
      "{'a': [1, 2, 3, 4], 'b': 'shivam', 'c': 23.45, 'd': (2, 3, 5, 2)}\n",
      "\n",
      "\n"
     ]
    }
   ],
   "source": [
    "#*args and **kwargs allow functions to accept a variable number of arguments, providing flexibility and accommodating different argument scenarios.\n",
    "\n",
    "#*arg type is tuple\n",
    "def arg_func(*arg):\n",
    "    return arg\n",
    "print(arg_func(12,32,42,\"shivam\"))\n",
    "\n",
    "\n",
    "#**kwargs type is dictionary\n",
    "def kwargs_func(**kwargs):\n",
    "    return kwargs\n",
    "print(kwargs_func(a=[1,2,3,4],b='shivam',c=23.45,d=(2,3,5,2)))\n",
    "\n",
    "\n",
    "print()\n",
    "print()"
   ]
  },
  {
   "cell_type": "markdown",
   "id": "d6d3ab24-c1d1-4153-b29b-247a41304c21",
   "metadata": {},
   "source": [
    "Q3. What is an iterator in python? Name the method used to initialise the iterator object and the method\n",
    "used for iteration. Use these methods to print the first five elements of the given list [2, 4, 6, 8, 10, 12, 14,\n",
    "16, 18, 20]."
   ]
  },
  {
   "cell_type": "code",
   "execution_count": 11,
   "id": "6fff3e1b-e9a4-4264-b472-068cc07dc279",
   "metadata": {},
   "outputs": [
    {
     "name": "stdout",
     "output_type": "stream",
     "text": [
      "2\n",
      "4\n",
      "5\n",
      "6\n",
      "8\n",
      "\n",
      "\n"
     ]
    }
   ],
   "source": [
    "# An iterator in Python is an object that enables iterating over a sequence of elements one by one.\n",
    "#The iter() method initializes the iterator object and the next() method is used for iteration.\n",
    "\n",
    "l=iter([2,4,5,6,8,10,12,14,16,18,20])\n",
    "print(next(l))\n",
    "print(next(l))\n",
    "print(next(l))\n",
    "print(next(l))\n",
    "print(next(l))\n",
    "\n",
    "print()\n",
    "print()"
   ]
  },
  {
   "cell_type": "markdown",
   "id": "60b83ad3-1972-42dd-be0a-d23d8b3719d2",
   "metadata": {},
   "source": [
    "Q4. What is a generator function in python? Why yield keyword is used? Give an example of a generator\n",
    "function."
   ]
  },
  {
   "cell_type": "code",
   "execution_count": 12,
   "id": "45da2dd7-9787-4d7c-8840-647437ef1c20",
   "metadata": {},
   "outputs": [
    {
     "name": "stdout",
     "output_type": "stream",
     "text": [
      "[2, 3, 4, 5, 2]\n",
      "\n",
      "\n"
     ]
    }
   ],
   "source": [
    "# A generator function in Python is a concise way to create an iterator using the yield keyword.\n",
    "# the yield keyword is used to create generator functions that produce a sequence of values on each iteration.\n",
    "\n",
    "def generator_func():\n",
    "    l=[2,3,4,5,2]\n",
    "    yield l\n",
    "\n",
    "gen=generator_func()\n",
    "print(next(gen))\n",
    "\n",
    "print()\n",
    "print()"
   ]
  },
  {
   "cell_type": "markdown",
   "id": "da3305a7-0d72-40a7-a2d7-e241f4468d5c",
   "metadata": {},
   "source": [
    "Q5. Create a generator function for prime numbers less than 1000. Use the next() method to print the\n",
    "first 20 prime numbers."
   ]
  },
  {
   "cell_type": "code",
   "execution_count": 44,
   "id": "b4910ee9-18af-47f4-878e-c2fc41d94ea5",
   "metadata": {},
   "outputs": [
    {
     "name": "stdout",
     "output_type": "stream",
     "text": [
      "2\n",
      "3\n",
      "5\n",
      "7\n",
      "11\n",
      "13\n",
      "17\n",
      "19\n",
      "23\n",
      "29\n",
      "31\n",
      "37\n",
      "41\n",
      "43\n",
      "47\n",
      "53\n",
      "59\n",
      "61\n",
      "67\n",
      "71\n",
      "\n",
      "\n"
     ]
    }
   ],
   "source": [
    "def prime_func():\n",
    "    num=2\n",
    "    primes =True\n",
    "    while num<1000:\n",
    "        for i in range(2,num):\n",
    "            if num%i==0:\n",
    "                primes=False\n",
    "                break\n",
    "            if num%i!=0:\n",
    "                primes=True\n",
    "        if primes==True:\n",
    "            yield num\n",
    "        num+=1\n",
    "prime=prime_func()\n",
    "for i in range(20):\n",
    "    print(next(prime))\n",
    "    \n",
    "    \n",
    "print()\n",
    "print()"
   ]
  },
  {
   "cell_type": "markdown",
   "id": "c8349ba7-c340-439c-9364-06b5c82e1233",
   "metadata": {},
   "source": [
    "Q6. Write a python program to print the first 10 Fibonacci numbers using a while loop."
   ]
  },
  {
   "cell_type": "code",
   "execution_count": 43,
   "id": "7ade7c11-c10f-45c1-a0e8-157efb4502c2",
   "metadata": {},
   "outputs": [
    {
     "name": "stdin",
     "output_type": "stream",
     "text": [
      " 10\n"
     ]
    },
    {
     "name": "stdout",
     "output_type": "stream",
     "text": [
      "0\n",
      "1\n",
      "1\n",
      "2\n",
      "3\n",
      "5\n",
      "8\n",
      "13\n",
      "21\n",
      "34\n",
      "\n",
      "\n"
     ]
    }
   ],
   "source": [
    "n=int(input())\n",
    "a=0\n",
    "b=1\n",
    "i=0\n",
    "while i<n:\n",
    "    print(a)\n",
    "    a,b=b,a+b\n",
    "    i+=1\n",
    "    \n",
    "\n",
    "print()\n",
    "print()"
   ]
  },
  {
   "cell_type": "markdown",
   "id": "b33c170a-2cc8-4af1-af28-9c46d3be8314",
   "metadata": {},
   "source": [
    "Q7. Write a List Comprehension to iterate through the given string: ‘pwskills’.\n",
    "Expected output: ['p', 'w', 's', 'k', 'i', 'l', 'l', 's']"
   ]
  },
  {
   "cell_type": "code",
   "execution_count": 42,
   "id": "93662b43-dcce-448e-99b6-d94b126d17b5",
   "metadata": {},
   "outputs": [
    {
     "name": "stdout",
     "output_type": "stream",
     "text": [
      "['p', 'w', 's', 'k', 'i', 'l', 'l', 's']\n",
      "\n",
      "\n"
     ]
    }
   ],
   "source": [
    "s='pwskills'\n",
    "l=[i for i in s]\n",
    "print(l)\n",
    "\n",
    "\n",
    "print()\n",
    "print()"
   ]
  },
  {
   "cell_type": "markdown",
   "id": "0985771b-02d8-4123-94ae-e510df687a17",
   "metadata": {},
   "source": [
    "Q8. Write a python program to check whether a given number is Palindrome or not using a while loop."
   ]
  },
  {
   "cell_type": "code",
   "execution_count": 41,
   "id": "94e3229b-ea41-4738-81ae-735d4225eab2",
   "metadata": {},
   "outputs": [
    {
     "name": "stdin",
     "output_type": "stream",
     "text": [
      " 75657\n"
     ]
    },
    {
     "name": "stdout",
     "output_type": "stream",
     "text": [
      "the number is Palindrome\n",
      "\n",
      "\n"
     ]
    }
   ],
   "source": [
    "n=int(input())\n",
    "s=str(n)\n",
    "if s==s[::-1]:\n",
    "    print('the number is Palindrome')\n",
    "else:\n",
    "    print('the number is not Palindrome')\n",
    "\n",
    "    \n",
    "print()\n",
    "print()"
   ]
  },
  {
   "cell_type": "markdown",
   "id": "41840472-88ba-4b07-a212-82101a6f9535",
   "metadata": {},
   "source": [
    "Q9. Write a code to print odd numbers from 1 to 100 using list comprehension."
   ]
  },
  {
   "cell_type": "code",
   "execution_count": 40,
   "id": "6a6de462-da2f-48dd-96d9-9c0542aded6d",
   "metadata": {},
   "outputs": [
    {
     "name": "stdout",
     "output_type": "stream",
     "text": [
      "[1, 3, 5, 7, 9, 11, 13, 15, 17, 19, 21, 23, 25, 27, 29, 31, 33, 35, 37, 39, 41, 43, 45, 47, 49, 51, 53, 55, 57, 59, 61, 63, 65, 67, 69, 71, 73, 75, 77, 79, 81, 83, 85, 87, 89, 91, 93, 95, 97, 99]\n"
     ]
    }
   ],
   "source": [
    "l=[i for i in range(1,101) if i%2!=0]\n",
    "print(l)"
   ]
  }
 ],
 "metadata": {
  "kernelspec": {
   "display_name": "Python 3 (ipykernel)",
   "language": "python",
   "name": "python3"
  },
  "language_info": {
   "codemirror_mode": {
    "name": "ipython",
    "version": 3
   },
   "file_extension": ".py",
   "mimetype": "text/x-python",
   "name": "python",
   "nbconvert_exporter": "python",
   "pygments_lexer": "ipython3",
   "version": "3.10.8"
  }
 },
 "nbformat": 4,
 "nbformat_minor": 5
}
