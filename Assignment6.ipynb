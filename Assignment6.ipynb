{
 "cells": [
  {
   "cell_type": "markdown",
   "id": "0ad36d2f-84ba-46bc-bb26-57968c89a541",
   "metadata": {},
   "source": [
    "Q1. Write a program to accept percentage from the user and the grade according to the following criteria:  ........................"
   ]
  },
  {
   "cell_type": "code",
   "execution_count": 11,
   "id": "4027e66c-8ad1-4fca-bdab-fe5e11da1392",
   "metadata": {},
   "outputs": [
    {
     "name": "stdin",
     "output_type": "stream",
     "text": [
      "enter the perentage : 45\n"
     ]
    },
    {
     "name": "stdout",
     "output_type": "stream",
     "text": [
      "You got 'D' Grade\n"
     ]
    }
   ],
   "source": [
    "marks=int(input(\"enter the perentage :\"))\n",
    "if marks>90:\n",
    "    print(\"You got 'A' Grade\")\n",
    "elif marks>80 and marks<=90:\n",
    "    print(\"You got 'B' Grade\")\n",
    "elif marks>=60 and marks<=80:\n",
    "    print(\"You got 'C' Grade\")\n",
    "else:\n",
    "    print(\"You got 'D' Grade\")\n",
    "    "
   ]
  },
  {
   "cell_type": "markdown",
   "id": "b9cbc267-6a8d-491a-b0c3-76f83e55b929",
   "metadata": {},
   "source": [
    "Q2. Write a program to accept the cost price of a bike and display the road tax to be paid according to the following criteria:  ..................................."
   ]
  },
  {
   "cell_type": "code",
   "execution_count": 12,
   "id": "06bf4278-df8e-4bea-9eb0-16cde353627f",
   "metadata": {},
   "outputs": [
    {
     "name": "stdin",
     "output_type": "stream",
     "text": [
      "enter the price : 50000\n"
     ]
    },
    {
     "name": "stdout",
     "output_type": "stream",
     "text": [
      "Tax :  2500.0\n"
     ]
    }
   ],
   "source": [
    "bike_price=int(input(\"enter the price :\"))\n",
    "if bike_price>100000:\n",
    "    print(\"Tax : \",bike_price*.15)\n",
    "elif bike_price>50000 and bike_price<=100000:\n",
    "    print(\"Tax : \",bike_price*.10)\n",
    "else:\n",
    "    print(\"Tax : \",bike_price*.05)"
   ]
  },
  {
   "cell_type": "markdown",
   "id": "01157d39-363b-4031-9753-0b1743957264",
   "metadata": {},
   "source": [
    "Q1. Accept any city from the user and display monuments of that city. "
   ]
  },
  {
   "cell_type": "code",
   "execution_count": 13,
   "id": "ea7a9051-f251-4236-8334-226d69ce82b6",
   "metadata": {},
   "outputs": [
    {
     "name": "stdin",
     "output_type": "stream",
     "text": [
      "enter the city : Agra\n"
     ]
    },
    {
     "name": "stdout",
     "output_type": "stream",
     "text": [
      "Monument of Agra :  'Taj Mahal'\n"
     ]
    }
   ],
   "source": [
    "city=input(\"enter the city :\")\n",
    "if city==\"Delhi\":\n",
    "    print(\"Monument of Delhi : \",\"'Red Fort'\")\n",
    "    \n",
    "elif city==\"Agra\":\n",
    "    print(\"Monument of Agra : \",\"'Taj Mahal'\")\n",
    "elif city==\"Jaipur\":\n",
    "    print(\"Monument of Jaipur : \",\"'Jal Mahal'\")\n",
    "    \n"
   ]
  },
  {
   "cell_type": "markdown",
   "id": "b46385a2-2a04-4672-823c-b28bc39291a9",
   "metadata": {},
   "source": [
    "Q4. Check how many times a given number can be divided by 3 before it is less than or equal to 10"
   ]
  },
  {
   "cell_type": "code",
   "execution_count": 3,
   "id": "722a4e44-112d-4479-b94a-5c7ee0fde87b",
   "metadata": {},
   "outputs": [
    {
     "name": "stdin",
     "output_type": "stream",
     "text": [
      "enter the number : 300\n"
     ]
    },
    {
     "name": "stdout",
     "output_type": "stream",
     "text": [
      "Number of divisions: 4\n"
     ]
    }
   ],
   "source": [
    "number = int(input('enter the number :')) \n",
    "count = 0\n",
    "\n",
    "while number > 10:\n",
    "    number /= 3\n",
    "    count += 1\n",
    "\n",
    "print(\"Number of divisions:\", count)\n"
   ]
  },
  {
   "cell_type": "markdown",
   "id": "21c5a4a8-190b-4ee2-bea8-67393a5bc31a",
   "metadata": {},
   "source": [
    "Q5. Why and When to use while loop in Python give a detailed description with example "
   ]
  },
  {
   "cell_type": "code",
   "execution_count": 14,
   "id": "29232959-11ff-4562-9769-88d44f8b52e7",
   "metadata": {},
   "outputs": [
    {
     "name": "stdout",
     "output_type": "stream",
     "text": [
      "Count: 0\n",
      "Count: 1\n",
      "Count: 2\n",
      "Count: 3\n",
      "Count: 4\n"
     ]
    }
   ],
   "source": [
    "#While loops in Python are used when you need to repeatedly execute a block of code based on a condition.\n",
    "#Example: counting iterations.\n",
    "\n",
    "count = 0\n",
    "while count < 5:\n",
    "    print(\"Count:\", count)\n",
    "    count += 1\n"
   ]
  },
  {
   "cell_type": "markdown",
   "id": "a467d984-60f0-4284-a659-5f1c74a791d2",
   "metadata": {},
   "source": [
    "Q6. Use nested while loop to print 3 different pattern"
   ]
  },
  {
   "cell_type": "code",
   "execution_count": 16,
   "id": "7766e8a9-97d8-4e5c-8ad3-6c522a1f1892",
   "metadata": {},
   "outputs": [
    {
     "name": "stdout",
     "output_type": "stream",
     "text": [
      "*\n",
      "**\n",
      "***\n",
      "****\n",
      "*****\n",
      "\n",
      "****\n",
      "****\n",
      "****\n",
      "****\n",
      "\n",
      "1\n",
      "12\n",
      "123\n",
      "1234\n",
      "12345\n"
     ]
    }
   ],
   "source": [
    "#Pattern 1: Triangle Pattern\n",
    "rows = 5\n",
    "i = 1\n",
    "while i <= rows:\n",
    "    j = 1\n",
    "    while j <= i:\n",
    "        print(\"*\", end=\"\")\n",
    "        j += 1\n",
    "    print()\n",
    "    i += 1\n",
    "print()\n",
    "    \n",
    "#Pattern 2: Square Pattern\n",
    "rows = 4\n",
    "i = 1\n",
    "while i <= rows:\n",
    "    j = 1\n",
    "    while j <= rows:\n",
    "        print(\"*\", end=\"\")\n",
    "        j += 1\n",
    "    print()\n",
    "    i += 1\n",
    "print()\n",
    "\n",
    "#Pattern 3: Number Pyramid\n",
    "rows = 5\n",
    "i = 1\n",
    "while i <= rows:\n",
    "    j = 1\n",
    "    while j <= i:\n",
    "        print(j, end=\"\")\n",
    "        j += 1\n",
    "    print()\n",
    "    i += 1\n"
   ]
  },
  {
   "cell_type": "markdown",
   "id": "1e94f574-80c7-4345-b171-38a448f30005",
   "metadata": {},
   "source": [
    "Q7. Reverse a while loop to display numbers from 10 to 1"
   ]
  },
  {
   "cell_type": "code",
   "execution_count": 17,
   "id": "3a2c7d1f-a429-4271-8d92-fe58e3be0c78",
   "metadata": {},
   "outputs": [
    {
     "name": "stdout",
     "output_type": "stream",
     "text": [
      "10\n",
      "9\n",
      "8\n",
      "7\n",
      "6\n",
      "5\n",
      "4\n",
      "3\n",
      "2\n",
      "1\n"
     ]
    }
   ],
   "source": [
    "n=10\n",
    "while n>0:\n",
    "    print(n)\n",
    "    n-=1"
   ]
  },
  {
   "cell_type": "markdown",
   "id": "f7f7d887-9dee-4ee2-8382-ffd349c2cc79",
   "metadata": {},
   "source": [
    "Q8. Reverse a while loop to display numbers from 10 to 1"
   ]
  },
  {
   "cell_type": "code",
   "execution_count": 18,
   "id": "fd16a1a8-56b4-4e60-99a0-5b0bececb366",
   "metadata": {},
   "outputs": [
    {
     "name": "stdout",
     "output_type": "stream",
     "text": [
      "10\n",
      "9\n",
      "8\n",
      "7\n",
      "6\n",
      "5\n",
      "4\n",
      "3\n",
      "2\n",
      "1\n"
     ]
    }
   ],
   "source": [
    "n=10\n",
    "while n>0:\n",
    "    print(n)\n",
    "    n-=1"
   ]
  }
 ],
 "metadata": {
  "kernelspec": {
   "display_name": "Python 3 (ipykernel)",
   "language": "python",
   "name": "python3"
  },
  "language_info": {
   "codemirror_mode": {
    "name": "ipython",
    "version": 3
   },
   "file_extension": ".py",
   "mimetype": "text/x-python",
   "name": "python",
   "nbconvert_exporter": "python",
   "pygments_lexer": "ipython3",
   "version": "3.10.8"
  }
 },
 "nbformat": 4,
 "nbformat_minor": 5
}
