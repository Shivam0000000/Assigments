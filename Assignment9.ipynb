{
 "cells": [
  {
   "cell_type": "markdown",
   "id": "a4762aaf-2113-4711-964e-fc4dbc594c43",
   "metadata": {},
   "source": [
    "Q1. What is Abstraction in OOps? Explain with an example."
   ]
  },
  {
   "cell_type": "code",
   "execution_count": 4,
   "id": "24a9b67a-68f0-4095-ba4b-2e2b13b99195",
   "metadata": {},
   "outputs": [],
   "source": [
    "#Abstraction in OOP is the process of simplifying complex systems by focusing on essential features and hiding unnecessary details.\n",
    "import abc\n",
    "class Shape:\n",
    "    @abc.abstractmethod\n",
    "    def calculate_area(self):\n",
    "        pass\n",
    "\n",
    "class Rectangle(Shape):\n",
    "    def __init__(self, length, width):\n",
    "        self.length = length\n",
    "        self.width = width\n",
    "    \n",
    "    def calculate_area(self):\n",
    "        return self.length * self.width\n",
    "\n",
    "class Circle(Shape):\n",
    "    def __init__(self, radius):\n",
    "        self.radius = radius\n",
    "    \n",
    "    def calculate_area(self):\n",
    "        return 3.14 * self.radius**2\n"
   ]
  },
  {
   "cell_type": "markdown",
   "id": "0a12299d-a70c-4757-abb9-089ecca0d3b4",
   "metadata": {},
   "source": [
    "Q2. Differentiate between Abstraction and Encapsulation. Explain with an example."
   ]
  },
  {
   "cell_type": "code",
   "execution_count": 6,
   "id": "16b5645a-75ab-4bd2-b74e-e008175d448a",
   "metadata": {},
   "outputs": [],
   "source": [
    "#Abstraction focuses on creating simplified models by hiding unnecessary details, while encapsulation involves bundling data and methods into a single unit (class) for better control and protection.\n",
    "\n",
    "#Example:\n",
    "#Abstraction: Representing the concept of an \"account\" in a banking system with common methods like deposit, withdrawal, and balance inquiry, without specifying the implementation details."
   ]
  },
  {
   "cell_type": "markdown",
   "id": "861a5134-88a4-4dc1-8129-48a2a215810a",
   "metadata": {},
   "source": [
    "Q3. What is abc module in python? Why is it used?"
   ]
  },
  {
   "cell_type": "code",
   "execution_count": 5,
   "id": "2019a761-d2a3-4adc-bfd6-ebed465a07cb",
   "metadata": {},
   "outputs": [],
   "source": [
    "#The abc module in Python provides the infrastructure for defining abstract base classes.\n",
    "#It is used for creating interfaces and enforcing class hierarchies."
   ]
  },
  {
   "cell_type": "markdown",
   "id": "6bfdc6f8-c737-4e9d-8ed3-42c644422f4e",
   "metadata": {},
   "source": [
    "Q4. How can we achieve data abstraction?"
   ]
  },
  {
   "cell_type": "code",
   "execution_count": null,
   "id": "77f008f7-dff7-4352-b4a2-0234c01ac9b3",
   "metadata": {},
   "outputs": [],
   "source": [
    "#By using classes and objects, encapsulating data, and providing access through methods rather than directly accessing attributes.\n"
   ]
  },
  {
   "cell_type": "markdown",
   "id": "303b7b55-30c6-4b29-aa8d-cfc58e173834",
   "metadata": {},
   "source": [
    "Q5. Can we create an instance of an abstract class? Explain your answer."
   ]
  },
  {
   "cell_type": "code",
   "execution_count": 3,
   "id": "353cc355-7804-41f2-b8d6-cdf7f807d15b",
   "metadata": {},
   "outputs": [],
   "source": [
    "#No, we cannot create an instance of an abstract class because abstract classes are incomplete and designed to be inherited by subclasses to provide implementations for abstract methods."
   ]
  }
 ],
 "metadata": {
  "kernelspec": {
   "display_name": "Python 3 (ipykernel)",
   "language": "python",
   "name": "python3"
  },
  "language_info": {
   "codemirror_mode": {
    "name": "ipython",
    "version": 3
   },
   "file_extension": ".py",
   "mimetype": "text/x-python",
   "name": "python",
   "nbconvert_exporter": "python",
   "pygments_lexer": "ipython3",
   "version": "3.10.8"
  }
 },
 "nbformat": 4,
 "nbformat_minor": 5
}
