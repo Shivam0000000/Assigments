{
 "cells": [
  {
   "cell_type": "markdown",
   "id": "9ae7e313-e054-478a-ae9b-d8a8a833d880",
   "metadata": {},
   "source": [
    "Q1. Create a vehicle class with an init method having instance variables as name_of_vehicle, max_speed\n",
    "and average_of_vehicle."
   ]
  },
  {
   "cell_type": "code",
   "execution_count": 2,
   "id": "53776ed9-879a-49d1-886c-e5bf7cbcc5c7",
   "metadata": {},
   "outputs": [],
   "source": [
    "class vehicle:\n",
    "    def __init__(self,name_of_vehicle,max_speed,average_of_vehicle):\n",
    "        self.name_of_vehicle=name_of_vehicle\n",
    "        self.max_speed=max_speed\n",
    "        self.average_of_vehicle=average_of_vehicle\n",
    "           "
   ]
  },
  {
   "cell_type": "markdown",
   "id": "7c7da9d2-7968-428e-9403-daae5b9adfa7",
   "metadata": {},
   "source": [
    "Q2. Create a child class car from the vehicle class created in Que 1, which will inherit the vehicle class.\n",
    "Create a method named seating_capacity which takes capacity as an argument and returns the name of\n",
    "the vehicle and its seating capacity.. Create a vehicle class with an init method having instance variables as name_of_vehicle, max_speed\n",
    "and average_of_vehicle."
   ]
  },
  {
   "cell_type": "code",
   "execution_count": 8,
   "id": "1347d375-e18e-4fc9-8c3d-20e40820ad71",
   "metadata": {},
   "outputs": [
    {
     "data": {
      "text/plain": [
       "('toyato', 5)"
      ]
     },
     "execution_count": 8,
     "metadata": {},
     "output_type": "execute_result"
    }
   ],
   "source": [
    "class car(vehicle):\n",
    "    def seating_capacity(self,capacity):\n",
    "        return self.name_of_vehicle,capacity\n",
    "c=car('toyato',180,40) \n",
    "c.seating_capacity(5)"
   ]
  },
  {
   "cell_type": "markdown",
   "id": "4068602e-bc32-4a48-8870-7d7c34057f70",
   "metadata": {},
   "source": [
    "Q3. What is multiple inheritance? Write a python code to demonstrate multiple inheritance."
   ]
  },
  {
   "cell_type": "code",
   "execution_count": 14,
   "id": "cd1935ea-836f-4094-86c4-c2d5f02e0300",
   "metadata": {},
   "outputs": [
    {
     "name": "stdout",
     "output_type": "stream",
     "text": [
      "Fido is barking!\n",
      "Fido is flying!\n"
     ]
    }
   ],
   "source": [
    "\"\"\"Multiple inheritance is a feature in object-oriented programming where a class can\n",
    "  inherit attributes and methods from more than one parent class.\"\"\"\n",
    "\n",
    "class Dog:\n",
    "    def __init__(self, name):\n",
    "        self.name = name\n",
    "\n",
    "    def bark(self):\n",
    "        print(f\"{self.name} is barking!\")\n",
    "\n",
    "\n",
    "class Bird:\n",
    "    def __init__(self, name):\n",
    "        self.name = name\n",
    "\n",
    "    def fly(self):\n",
    "        print(f\"{self.name} is flying!\")\n",
    "\n",
    "class FlyingDog(Dog, Bird):\n",
    "    def __init__(self, name):\n",
    "        super().__init__(name)\n",
    "\n",
    "\n",
    "my_pet = FlyingDog(\"Fido\")\n",
    "\n",
    "my_pet.bark()  \n",
    "my_pet.fly()   \n"
   ]
  },
  {
   "cell_type": "markdown",
   "id": "f3c4171d-adfe-4ffb-ab82-fa6d8729adc6",
   "metadata": {},
   "source": [
    "Q4. What are getter and setter in python? Create a class and create a getter and a setter method in this\n",
    "class."
   ]
  },
  {
   "cell_type": "code",
   "execution_count": 20,
   "id": "392a3d2f-9db8-4770-bcce-5823749c6eb0",
   "metadata": {},
   "outputs": [
    {
     "name": "stdout",
     "output_type": "stream",
     "text": [
      "Shivam Gautam\n"
     ]
    }
   ],
   "source": [
    "\"\"\"Getters and setters in Python are methods that allow accessing and modifying class attribute values, \n",
    "respectively, providing control over attribute interactions and enabling data encapsulation.\"\"\"\n",
    "\n",
    "class Person:\n",
    "    def __init__(self):\n",
    "        self._name = \"\"\n",
    "\n",
    "    def get_name(self):\n",
    "        return self._name\n",
    "\n",
    "    def set_name(self, name):\n",
    "        self._name = name\n",
    "\n",
    "\n",
    "person = Person()\n",
    "\n",
    "person.set_name(\"Shivam Gautam\")\n",
    "\n",
    "print(person.get_name()) \n",
    "\n",
    "\n",
    "\n"
   ]
  },
  {
   "cell_type": "markdown",
   "id": "49df3c87-c24a-44c3-8fad-349aeaf65e49",
   "metadata": {},
   "source": [
    "Q5.What is method overriding in python? Write a python code to demonstrate method overriding."
   ]
  },
  {
   "cell_type": "code",
   "execution_count": 24,
   "id": "d7ee930d-eb41-47e7-b2b7-86312c4da8a0",
   "metadata": {},
   "outputs": [
    {
     "name": "stdout",
     "output_type": "stream",
     "text": [
      "Vehicle makes a generic sound.\n",
      "Car makes a revving sound.\n"
     ]
    }
   ],
   "source": [
    "\"\"\"Method overriding in Python is a feature that allows a subclass to provide a different \n",
    "   implementation of a method that is already defined in its parent class.\"\"\"\n",
    "\n",
    "\n",
    "class Vehicle:\n",
    "    def __init__(self, name):\n",
    "        self.name = name\n",
    "\n",
    "    def make_sound(self):\n",
    "        print(\"Vehicle makes a generic sound.\")\n",
    "\n",
    "\n",
    "class Car(Vehicle):\n",
    "    def __init__(self, name):\n",
    "        super().__init__(name)\n",
    "\n",
    "    def make_sound(self):\n",
    "        print(\"Car makes a revving sound.\")\n",
    "\n",
    "\n",
    "my_vehicle = Vehicle(\"Generic Vehicle\")\n",
    "my_car = Car(\"Sports Car\")\n",
    "\n",
    "my_vehicle.make_sound()  \n",
    "my_car.make_sound()      \n",
    "\n",
    "\n",
    "\n",
    "\n"
   ]
  }
 ],
 "metadata": {
  "kernelspec": {
   "display_name": "Python 3 (ipykernel)",
   "language": "python",
   "name": "python3"
  },
  "language_info": {
   "codemirror_mode": {
    "name": "ipython",
    "version": 3
   },
   "file_extension": ".py",
   "mimetype": "text/x-python",
   "name": "python",
   "nbconvert_exporter": "python",
   "pygments_lexer": "ipython3",
   "version": "3.10.8"
  }
 },
 "nbformat": 4,
 "nbformat_minor": 5
}
